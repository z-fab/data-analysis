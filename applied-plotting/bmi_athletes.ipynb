{
 "cells": [
  {
   "cell_type": "markdown",
   "id": "1aa6ce3c-b525-458c-952d-4d129e42be1d",
   "metadata": {},
   "source": [
    "# Assignment 4\n",
    "\n",
    "This assignment requires that you to find **at least two datasets** on the web which are related, and that you visualize these datasets to answer a question with the broad topic of **sports or athletics**.\n",
    "\n",
    "You are welcome to choose datasets at your discretion, but keep in mind **they will be shared with your peers**, so choose appropriate datasets. Sensitive, confidential, illicit, and proprietary materials are not good choices for datasets for this assignment. You are welcome to upload datasets of your own as well, and link to them using a third party repository such as github, pastebin, etc. Please be aware of the Coursera terms of service with respect to intellectual property.\n",
    "\n",
    "Also, you are welcome to preserve data in its original language, but for the purposes of grading you should provide english translations. You are welcome to provide multiple visuals in different languages if you would like!\n",
    "\n",
    "As this assignment is for the whole course, you must incorporate principles discussed in the first week, such as having as high data-ink ratio (Tufte) and aligning with Cairo’s principles of truth, beauty, function, and insight.\n",
    "\n",
    "Here are the assignment instructions:\n",
    "\n",
    " * You must state a question you are seeking to answer with your visualizations.\n",
    " * You must provide at least two links to available datasets. These could be links to files such as CSV or Excel files, or links to websites which might have data in tabular form, such as Wikipedia pages.\n",
    " * You must upload an image which addresses the research question you stated. In addition to addressing the question, this visual should follow Cairo's principles of truthfulness, functionality, beauty, and insightfulness.\n",
    " * You must contribute a short (1-2 paragraph) written justification of how your visualization addresses your stated research question."
   ]
  },
  {
   "cell_type": "markdown",
   "id": "572db6af-b38f-4bf6-8d4b-996a798987ee",
   "metadata": {},
   "source": [
    "## 1. Domain and Question"
   ]
  },
  {
   "cell_type": "markdown",
   "id": "5f3aa6fd-4dbc-4505-9160-c47ea5e78ab5",
   "metadata": {},
   "source": [
    "The Domain is Sports and Athletics.\n",
    "\n",
    "Question: "
   ]
  },
  {
   "cell_type": "markdown",
   "id": "55d972c0-f02c-4206-a663-438458c1b9db",
   "metadata": {},
   "source": [
    "## 2. The Data"
   ]
  },
  {
   "cell_type": "markdown",
   "id": "ea22cfda-3fe9-4cef-8e1c-1e6d2189faa6",
   "metadata": {},
   "source": [
    "O dataset utilizado para responder a questão pode ser encontrado em https://www.kaggle.com/datasets/heesoo37/120-years-of-olympic-history-athletes-and-results?resource=download"
   ]
  },
  {
   "cell_type": "markdown",
   "id": "436495a8-55c9-476e-b11c-1f5553c6f458",
   "metadata": {},
   "source": [
    "This is a historical dataset on the modern Olympic Games, including all the Games from Athens 1896 to Rio 2016"
   ]
  },
  {
   "cell_type": "markdown",
   "id": "89379481-1c9a-46e0-82d4-7d6bf5dd5cf5",
   "metadata": {},
   "source": [
    "The file athlete_events.csv contains 271116 rows and 15 columns. Each row corresponds to an individual athlete competing in an individual Olympic event (athlete-events). The columns are:\n",
    "\n",
    "- **ID** - Unique number for each athlete\n",
    "- **Name** - Athlete's name\n",
    "- **Sex** - M or F\n",
    "- **Age** - Integer\n",
    "- **Height** - In centimeters\n",
    "- **Weight** - In kilograms\n",
    "- **Team** - Team name\n",
    "- **NOC** - National Olympic Committee 3-letter code\n",
    "- **Games** - Year and season\n",
    "- **Year** - Integer\n",
    "- **Season** - Summer or Winter\n",
    "- **City** - Host city\n",
    "- **Sport** - Sport\n",
    "- **Event** - Event\n",
    "- **Medal** - Gold, Silver, Bronze, or NA"
   ]
  },
  {
   "cell_type": "markdown",
   "id": "b0114ccf-4892-4fd1-8358-4fe3f2d10bd6",
   "metadata": {},
   "source": [
    "### 2.1 Imports"
   ]
  },
  {
   "cell_type": "code",
   "execution_count": 185,
   "id": "07ff018c-ef3c-40a2-8225-8b0e25d837b2",
   "metadata": {},
   "outputs": [],
   "source": [
    "import pandas as pd\n",
    "import numpy as np\n",
    "\n",
    "import matplotlib.pyplot as plt\n",
    "import matplotlib.colors as mcolors\n",
    "import seaborn as sns"
   ]
  },
  {
   "cell_type": "code",
   "execution_count": 4,
   "id": "48554392-91b4-4d4c-b8ee-b055a7f67b3f",
   "metadata": {},
   "outputs": [],
   "source": [
    "df = pd.read_csv('resource/athlete_events.csv')"
   ]
  },
  {
   "cell_type": "code",
   "execution_count": 5,
   "id": "41e3e6ca-8d55-4d08-9503-c4261a052408",
   "metadata": {},
   "outputs": [
    {
     "data": {
      "text/html": [
       "<div>\n",
       "<style scoped>\n",
       "    .dataframe tbody tr th:only-of-type {\n",
       "        vertical-align: middle;\n",
       "    }\n",
       "\n",
       "    .dataframe tbody tr th {\n",
       "        vertical-align: top;\n",
       "    }\n",
       "\n",
       "    .dataframe thead th {\n",
       "        text-align: right;\n",
       "    }\n",
       "</style>\n",
       "<table border=\"1\" class=\"dataframe\">\n",
       "  <thead>\n",
       "    <tr style=\"text-align: right;\">\n",
       "      <th></th>\n",
       "      <th>ID</th>\n",
       "      <th>Name</th>\n",
       "      <th>Sex</th>\n",
       "      <th>Age</th>\n",
       "      <th>Height</th>\n",
       "      <th>Weight</th>\n",
       "      <th>Team</th>\n",
       "      <th>NOC</th>\n",
       "      <th>Games</th>\n",
       "      <th>Year</th>\n",
       "      <th>Season</th>\n",
       "      <th>City</th>\n",
       "      <th>Sport</th>\n",
       "      <th>Event</th>\n",
       "      <th>Medal</th>\n",
       "    </tr>\n",
       "  </thead>\n",
       "  <tbody>\n",
       "    <tr>\n",
       "      <th>0</th>\n",
       "      <td>1</td>\n",
       "      <td>A Dijiang</td>\n",
       "      <td>M</td>\n",
       "      <td>24.0</td>\n",
       "      <td>180.0</td>\n",
       "      <td>80.0</td>\n",
       "      <td>China</td>\n",
       "      <td>CHN</td>\n",
       "      <td>1992 Summer</td>\n",
       "      <td>1992</td>\n",
       "      <td>Summer</td>\n",
       "      <td>Barcelona</td>\n",
       "      <td>Basketball</td>\n",
       "      <td>Basketball Men's Basketball</td>\n",
       "      <td>NaN</td>\n",
       "    </tr>\n",
       "    <tr>\n",
       "      <th>1</th>\n",
       "      <td>2</td>\n",
       "      <td>A Lamusi</td>\n",
       "      <td>M</td>\n",
       "      <td>23.0</td>\n",
       "      <td>170.0</td>\n",
       "      <td>60.0</td>\n",
       "      <td>China</td>\n",
       "      <td>CHN</td>\n",
       "      <td>2012 Summer</td>\n",
       "      <td>2012</td>\n",
       "      <td>Summer</td>\n",
       "      <td>London</td>\n",
       "      <td>Judo</td>\n",
       "      <td>Judo Men's Extra-Lightweight</td>\n",
       "      <td>NaN</td>\n",
       "    </tr>\n",
       "    <tr>\n",
       "      <th>2</th>\n",
       "      <td>3</td>\n",
       "      <td>Gunnar Nielsen Aaby</td>\n",
       "      <td>M</td>\n",
       "      <td>24.0</td>\n",
       "      <td>NaN</td>\n",
       "      <td>NaN</td>\n",
       "      <td>Denmark</td>\n",
       "      <td>DEN</td>\n",
       "      <td>1920 Summer</td>\n",
       "      <td>1920</td>\n",
       "      <td>Summer</td>\n",
       "      <td>Antwerpen</td>\n",
       "      <td>Football</td>\n",
       "      <td>Football Men's Football</td>\n",
       "      <td>NaN</td>\n",
       "    </tr>\n",
       "    <tr>\n",
       "      <th>3</th>\n",
       "      <td>4</td>\n",
       "      <td>Edgar Lindenau Aabye</td>\n",
       "      <td>M</td>\n",
       "      <td>34.0</td>\n",
       "      <td>NaN</td>\n",
       "      <td>NaN</td>\n",
       "      <td>Denmark/Sweden</td>\n",
       "      <td>DEN</td>\n",
       "      <td>1900 Summer</td>\n",
       "      <td>1900</td>\n",
       "      <td>Summer</td>\n",
       "      <td>Paris</td>\n",
       "      <td>Tug-Of-War</td>\n",
       "      <td>Tug-Of-War Men's Tug-Of-War</td>\n",
       "      <td>Gold</td>\n",
       "    </tr>\n",
       "    <tr>\n",
       "      <th>4</th>\n",
       "      <td>5</td>\n",
       "      <td>Christine Jacoba Aaftink</td>\n",
       "      <td>F</td>\n",
       "      <td>21.0</td>\n",
       "      <td>185.0</td>\n",
       "      <td>82.0</td>\n",
       "      <td>Netherlands</td>\n",
       "      <td>NED</td>\n",
       "      <td>1988 Winter</td>\n",
       "      <td>1988</td>\n",
       "      <td>Winter</td>\n",
       "      <td>Calgary</td>\n",
       "      <td>Speed Skating</td>\n",
       "      <td>Speed Skating Women's 500 metres</td>\n",
       "      <td>NaN</td>\n",
       "    </tr>\n",
       "  </tbody>\n",
       "</table>\n",
       "</div>"
      ],
      "text/plain": [
       "   ID                      Name Sex   Age  Height  Weight            Team  \\\n",
       "0   1                 A Dijiang   M  24.0   180.0    80.0           China   \n",
       "1   2                  A Lamusi   M  23.0   170.0    60.0           China   \n",
       "2   3       Gunnar Nielsen Aaby   M  24.0     NaN     NaN         Denmark   \n",
       "3   4      Edgar Lindenau Aabye   M  34.0     NaN     NaN  Denmark/Sweden   \n",
       "4   5  Christine Jacoba Aaftink   F  21.0   185.0    82.0     Netherlands   \n",
       "\n",
       "   NOC        Games  Year  Season       City          Sport  \\\n",
       "0  CHN  1992 Summer  1992  Summer  Barcelona     Basketball   \n",
       "1  CHN  2012 Summer  2012  Summer     London           Judo   \n",
       "2  DEN  1920 Summer  1920  Summer  Antwerpen       Football   \n",
       "3  DEN  1900 Summer  1900  Summer      Paris     Tug-Of-War   \n",
       "4  NED  1988 Winter  1988  Winter    Calgary  Speed Skating   \n",
       "\n",
       "                              Event Medal  \n",
       "0       Basketball Men's Basketball   NaN  \n",
       "1      Judo Men's Extra-Lightweight   NaN  \n",
       "2           Football Men's Football   NaN  \n",
       "3       Tug-Of-War Men's Tug-Of-War  Gold  \n",
       "4  Speed Skating Women's 500 metres   NaN  "
      ]
     },
     "execution_count": 5,
     "metadata": {},
     "output_type": "execute_result"
    }
   ],
   "source": [
    "df.head()"
   ]
  },
  {
   "cell_type": "markdown",
   "id": "1d30414c-71e4-4acf-af15-d8b84f3f622c",
   "metadata": {},
   "source": [
    "### 2.2 Cleaning"
   ]
  },
  {
   "cell_type": "code",
   "execution_count": 146,
   "id": "c80bca02-4ee7-44ce-b690-60aed216a53f",
   "metadata": {},
   "outputs": [],
   "source": [
    "df2 = df.copy()"
   ]
  },
  {
   "cell_type": "code",
   "execution_count": 147,
   "id": "1278f582-d74a-45d9-835e-a42878de1027",
   "metadata": {},
   "outputs": [
    {
     "data": {
      "text/plain": [
       "(271116, 7)"
      ]
     },
     "execution_count": 147,
     "metadata": {},
     "output_type": "execute_result"
    }
   ],
   "source": [
    "df2 = df2[['Sex', 'Age', 'Weight', 'Height', 'NOC', 'Year', 'Medal']]\n",
    "df2.columns = ['sex', 'age', 'weight', 'height', 'noc', 'year', 'medal']\n",
    "df2.shape"
   ]
  },
  {
   "cell_type": "code",
   "execution_count": 148,
   "id": "c3be75c8-c365-445a-bd03-59d7effa3144",
   "metadata": {},
   "outputs": [
    {
     "data": {
      "text/plain": [
       "sex            0\n",
       "age         9474\n",
       "weight     62875\n",
       "height     60171\n",
       "noc            0\n",
       "year           0\n",
       "medal     231333\n",
       "dtype: int64"
      ]
     },
     "execution_count": 148,
     "metadata": {},
     "output_type": "execute_result"
    }
   ],
   "source": [
    "df2.isna().sum()"
   ]
  },
  {
   "cell_type": "code",
   "execution_count": 149,
   "id": "be484759-88b7-43c8-96b6-811e27863566",
   "metadata": {},
   "outputs": [
    {
     "data": {
      "text/plain": [
       "(206165, 7)"
      ]
     },
     "execution_count": 149,
     "metadata": {},
     "output_type": "execute_result"
    }
   ],
   "source": [
    "df2.dropna(subset=['age', 'weight', 'height'], inplace=True)\n",
    "df2.shape"
   ]
  },
  {
   "cell_type": "markdown",
   "id": "9f33d13e-b874-4f9f-8523-4ed4ba23fd33",
   "metadata": {},
   "source": [
    "## 3. The Graph"
   ]
  },
  {
   "cell_type": "code",
   "execution_count": 150,
   "id": "9e53782d-4954-47aa-8f21-92b7c819e201",
   "metadata": {},
   "outputs": [],
   "source": [
    "df3 = df2.copy()"
   ]
  },
  {
   "cell_type": "code",
   "execution_count": 279,
   "id": "fab69eec-d226-4b65-a945-cee9aef9ab4d",
   "metadata": {},
   "outputs": [
    {
     "data": {
      "image/png": "[encoded data removed]",
      "text/plain": [
       "<Figure size 1400x700 with 1 Axes>"
      ]
     },
     "metadata": {},
     "output_type": "display_data"
    }
   ],
   "source": [
    "#Init Graphs\n",
    "plt.figure(figsize = (14, 7))\n",
    "plt.tight_layout()\n",
    "\n",
    "\n",
    "########################################\n",
    "##            Plots                   ##\n",
    "########################################\n",
    "\n",
    "aux = df3[df3['year'] >= 1900].copy()\n",
    "aux['imc'] = aux['weight'] / (aux['height']/100)**2\n",
    "\n",
    "plt.axhline(y = aux['imc'].median(),\n",
    "            color = '#666',\n",
    "            linestyle = '--',\n",
    "            label='Median BMI')\n",
    "\n",
    "\n",
    "aux2 = aux[aux['medal'].isna()]\n",
    "aux2 = aux2[['year', 'imc']].groupby('year').median().reset_index()\n",
    "\n",
    "sns.lineplot(x='year',\n",
    "             y='imc',\n",
    "             data=aux2,\n",
    "             errorbar=None,\n",
    "             color=mcolors.CSS4_COLORS['lightgreen'],\n",
    "             linewidth=3,\n",
    "             label='Non-Medalist')\n",
    "\n",
    "aux2 = aux[~aux['medal'].isna()]\n",
    "aux2 = aux2[['year', 'imc']].groupby('year').median().reset_index()\n",
    "\n",
    "sns.lineplot(x='year',\n",
    "             y='imc',\n",
    "             data=aux2,\n",
    "             errorbar=None,\n",
    "             color='#fff',\n",
    "             linewidth=6)\n",
    "\n",
    "sns.lineplot(x='year',\n",
    "             y='imc',\n",
    "             data=aux2,\n",
    "             errorbar=None,\n",
    "             color=mcolors.CSS4_COLORS['goldenrod'],\n",
    "             linewidth=3,\n",
    "             label='Medalist')\n",
    "\n",
    "\n",
    "########################################\n",
    "##            Axis                    ##\n",
    "########################################\n",
    "\n",
    "#Hide Spines axis\n",
    "ax = plt.gca()\n",
    "ax.spines['top'].set_visible(False)\n",
    "ax.spines['right'].set_visible(False)\n",
    "ax.spines['bottom'].set_visible(False)\n",
    "ax.spines['left'].set_visible(False)\n",
    "ax.spines['bottom'].set_color(mcolors.CSS4_COLORS['silver'])\n",
    "ax.spines['left'].set_color(mcolors.CSS4_COLORS['silver'])\n",
    "\n",
    "#Set Limists and ticklabels\n",
    "ax.set_xlim(1898, 2020)\n",
    "ax.set_xticks(np.arange(1900, 2016, 10));\n",
    "ax.set_yticks(np.arange(21, 25, 1));\n",
    "ax.tick_params(axis='both', colors='#333', bottom=False, left=False)\n",
    "ax.set_ylim(20.8, 24.5)\n",
    "\n",
    "ax.grid(axis='y', color='#ccc', linestyle='-', linewidth=.5)\n",
    "\n",
    "########################################\n",
    "##            Text                    ##\n",
    "########################################\n",
    "\n",
    "#Title\n",
    "plt.title('Body Mass Index Olympic Medalist vs Non-Medalist over the years', pad = 50, fontsize=16)\n",
    "\n",
    "#labels \n",
    "ax.set_ylabel('Body Mass Index (BMI)', labelpad = 25, color=\"#333\")\n",
    "ax.set_xlabel('Years', labelpad = 20, color=\"#333\")\n",
    "\n",
    "#Legend\n",
    "plt.legend(\n",
    "    frameon = False,\n",
    "    labelcolor = 'black',\n",
    "    fontsize = 12\n",
    ");\n",
    "\n",
    "plt.savefig('BMI_Olympic.png')"
   ]
  },
  {
   "cell_type": "markdown",
   "id": "a85282c9-391a-4ecc-b566-749cb1d90d27",
   "metadata": {},
   "source": [
    "Analyzing median weight and height to try to explain the difference in BMI"
   ]
  },
  {
   "cell_type": "code",
   "execution_count": 275,
   "id": "1d95bc65-4be1-4f43-9b43-ad341fb99b1a",
   "metadata": {},
   "outputs": [
    {
     "data": {
      "text/html": [
       "<div>\n",
       "<style scoped>\n",
       "    .dataframe tbody tr th:only-of-type {\n",
       "        vertical-align: middle;\n",
       "    }\n",
       "\n",
       "    .dataframe tbody tr th {\n",
       "        vertical-align: top;\n",
       "    }\n",
       "\n",
       "    .dataframe thead th {\n",
       "        text-align: right;\n",
       "    }\n",
       "</style>\n",
       "<table border=\"1\" class=\"dataframe\">\n",
       "  <thead>\n",
       "    <tr style=\"text-align: right;\">\n",
       "      <th></th>\n",
       "      <th>0</th>\n",
       "    </tr>\n",
       "  </thead>\n",
       "  <tbody>\n",
       "    <tr>\n",
       "      <th>weight</th>\n",
       "      <td>69.0</td>\n",
       "    </tr>\n",
       "    <tr>\n",
       "      <th>height</th>\n",
       "      <td>175.0</td>\n",
       "    </tr>\n",
       "  </tbody>\n",
       "</table>\n",
       "</div>"
      ],
      "text/plain": [
       "            0\n",
       "weight   69.0\n",
       "height  175.0"
      ]
     },
     "execution_count": 275,
     "metadata": {},
     "output_type": "execute_result"
    }
   ],
   "source": [
    "#Weight and Height - No Medalist\n",
    "aux = df3[df3['year'] >= 1900].copy()\n",
    "aux['imc'] = aux['weight'] / (aux['height']/100)**2\n",
    "\n",
    "aux[aux['medal'].isna()][['weight', 'height']].median().to_frame()"
   ]
  },
  {
   "cell_type": "code",
   "execution_count": 276,
   "id": "e5d989c9-21ee-438e-b193-29dc03d018d4",
   "metadata": {},
   "outputs": [
    {
     "data": {
      "text/html": [
       "<div>\n",
       "<style scoped>\n",
       "    .dataframe tbody tr th:only-of-type {\n",
       "        vertical-align: middle;\n",
       "    }\n",
       "\n",
       "    .dataframe tbody tr th {\n",
       "        vertical-align: top;\n",
       "    }\n",
       "\n",
       "    .dataframe thead th {\n",
       "        text-align: right;\n",
       "    }\n",
       "</style>\n",
       "<table border=\"1\" class=\"dataframe\">\n",
       "  <thead>\n",
       "    <tr style=\"text-align: right;\">\n",
       "      <th></th>\n",
       "      <th>0</th>\n",
       "    </tr>\n",
       "  </thead>\n",
       "  <tbody>\n",
       "    <tr>\n",
       "      <th>weight</th>\n",
       "      <td>73.0</td>\n",
       "    </tr>\n",
       "    <tr>\n",
       "      <th>height</th>\n",
       "      <td>178.0</td>\n",
       "    </tr>\n",
       "  </tbody>\n",
       "</table>\n",
       "</div>"
      ],
      "text/plain": [
       "            0\n",
       "weight   73.0\n",
       "height  178.0"
      ]
     },
     "execution_count": 276,
     "metadata": {},
     "output_type": "execute_result"
    }
   ],
   "source": [
    "#Weight and Height - Medalist\n",
    "aux = df3[df3['year'] >= 1900].copy()\n",
    "aux['imc'] = aux['weight'] / (aux['height']/100)**2\n",
    "\n",
    "aux[~aux['medal'].isna()][['weight', 'height']].median().to_frame()"
   ]
  },
  {
   "cell_type": "markdown",
   "id": "fcafebae-11d9-4f2f-bc84-a274e4b97e10",
   "metadata": {},
   "source": [
    "**Observation:** Medalists tend to be taller and heavier than non-medalists (average)"
   ]
  },
  {
   "cell_type": "markdown",
   "id": "301a8336-e907-4837-9f88-715e23aef3e1",
   "metadata": {},
   "source": [
    "## 4. Discusion"
   ]
  },
  {
   "cell_type": "markdown",
   "id": "cf2719fa-e32f-4ebb-a5a4-544b5c5672bd",
   "metadata": {},
   "source": [
    "Body Mass Index (BMI) is a measure used to evaluate the proportion between a person's mass and height. It is calculated by dividing the weight in kilograms by the height in meters squared. The index is widely used to determine whether a person is at a healthy weight or if they are above or below their ideal weight.\n",
    "\n",
    "By analyzing data from athletes who competed in the Olympics starting in the 1950s, it was found that the BMI of medalists is slightly higher than that of non-medalists. This can be explained by the fact that high-performing athletes tend to have a higher muscle mass, which can influence the value of the index"
   ]
  }
 ],
 "metadata": {
  "kernelspec": {
   "display_name": "Python 3 (ipykernel)",
   "language": "python",
   "name": "python3"
  },
  "language_info": {
   "codemirror_mode": {
    "name": "ipython",
    "version": 3
   },
   "file_extension": ".py",
   "mimetype": "text/x-python",
   "name": "python",
   "nbconvert_exporter": "python",
   "pygments_lexer": "ipython3",
   "version": "3.10.8"
  }
 },
 "nbformat": 4,
 "nbformat_minor": 5
}
